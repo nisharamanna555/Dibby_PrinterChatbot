{
 "cells": [
  {
   "cell_type": "code",
   "execution_count": 1,
   "id": "fe8f836b-8686-4deb-aed6-bd95f2f231c3",
   "metadata": {},
   "outputs": [],
   "source": [
    "# required modules \n",
    "import random \n",
    "import json \n",
    "import pickle \n",
    "import numpy as np \n",
    "import nltk \n",
    "from keras.models import load_model \n",
    "from nltk.stem import WordNetLemmatizer "
   ]
  },
  {
   "cell_type": "code",
   "execution_count": 2,
   "id": "6b3d6ebe-54eb-4ef0-bf98-e4ad4d73cfff",
   "metadata": {},
   "outputs": [],
   "source": [
    "lemmatizer = WordNetLemmatizer() \n",
    "\n",
    "# loading the files we made previously \n",
    "intents = json.loads(open(\"intent.json\").read()) \n",
    "words = pickle.load(open('words.pk1', 'rb')) \n",
    "classes = pickle.load(open('classes.pk1', 'rb')) \n",
    "model = load_model('my_model.keras') "
   ]
  },
  {
   "cell_type": "code",
   "execution_count": 3,
   "id": "62206371-549e-4bb6-a0d3-31266d4d4071",
   "metadata": {},
   "outputs": [],
   "source": [
    "def clean_up_sentences(sentence): \n",
    "    sentence_words = nltk.word_tokenize(sentence) \n",
    "    sentence_words = [lemmatizer.lemmatize(word)  \n",
    "                      for word in sentence_words] \n",
    "    return sentence_words "
   ]
  },
  {
   "cell_type": "code",
   "execution_count": 4,
   "id": "bfff1e11-090d-4f19-b426-4bc4e6f9cfc6",
   "metadata": {},
   "outputs": [],
   "source": [
    "def bagw(sentence): \n",
    "    # separate out words from the input sentence \n",
    "    sentence_words = clean_up_sentences(sentence) \n",
    "    bag = [0]*len(words) \n",
    "    for w in sentence_words: \n",
    "        for i, word in enumerate(words): \n",
    "            # check whether the word \n",
    "            # is present in the input as well \n",
    "            if word == w: \n",
    "                # as the list of words \n",
    "                # created earlier. \n",
    "                bag[i] = 1\n",
    "    # return a numpy array \n",
    "    return np.array(bag)"
   ]
  },
  {
   "cell_type": "code",
   "execution_count": 5,
   "id": "a24c1b5b-70c8-4541-8ace-32823bbc53ad",
   "metadata": {},
   "outputs": [],
   "source": [
    "def predict_class(sentence): \n",
    "    bow = bagw(sentence) \n",
    "    res = model.predict(np.array([bow]))[0] \n",
    "    ERROR_THRESHOLD = 0.25\n",
    "    results = [[i, r] for i, r in enumerate(res)  \n",
    "               if r > ERROR_THRESHOLD] \n",
    "    results.sort(key=lambda x: x[1], reverse=True) \n",
    "    return_list = [] \n",
    "    for r in results: \n",
    "        return_list.append({'intent': classes[r[0]], \n",
    "                            'probability': str(r[1])}) \n",
    "        return return_list "
   ]
  },
  {
   "cell_type": "code",
   "execution_count": 6,
   "id": "3be03dd6-6e88-493e-891a-e08a1a1eeeef",
   "metadata": {},
   "outputs": [],
   "source": [
    "def get_response(intents_list, intents_json): \n",
    "    tag = intents_list[0]['intent'] \n",
    "    list_of_intents = intents_json['intents'] \n",
    "    result = \"\" \n",
    "    for i in list_of_intents: \n",
    "        if i['tag'] == tag: \n",
    "            \n",
    "              # prints a random response \n",
    "            result = random.choice(i['responses'])   \n",
    "            break\n",
    "    return result "
   ]
  },
  {
   "cell_type": "code",
   "execution_count": null,
   "id": "17490bcc-79c2-4858-824f-b02019a31ab5",
   "metadata": {},
   "outputs": [
    {
     "name": "stdout",
     "output_type": "stream",
     "text": [
      "Chatbot is up!\n"
     ]
    },
    {
     "name": "stdin",
     "output_type": "stream",
     "text": [
      " Hello\n"
     ]
    },
    {
     "name": "stdout",
     "output_type": "stream",
     "text": [
      "1/1 [==============================] - 0s 32ms/step\n",
      "Hello!\n"
     ]
    },
    {
     "name": "stdin",
     "output_type": "stream",
     "text": [
      " The printer is showing I have no money even though I know I do\n"
     ]
    },
    {
     "name": "stdout",
     "output_type": "stream",
     "text": [
      "1/1 [==============================] - 0s 13ms/step\n",
      "I'm so sorry the printer display is stating you have a 0 balance even though you have money on your account! Please reupload your document to NYU Mobile Print and try printing again- this should fix the issue.\n"
     ]
    },
    {
     "name": "stdin",
     "output_type": "stream",
     "text": [
      " What's your name\n"
     ]
    },
    {
     "name": "stdout",
     "output_type": "stream",
     "text": [
      "1/1 [==============================] - 0s 12ms/step\n",
      "I'm Dibby, your friendly printing assistant!\n"
     ]
    },
    {
     "name": "stdin",
     "output_type": "stream",
     "text": [
      " I need help\n"
     ]
    },
    {
     "name": "stdout",
     "output_type": "stream",
     "text": [
      "1/1 [==============================] - 0s 13ms/step\n",
      "I can assist with that! Could you explain your question?\n"
     ]
    },
    {
     "name": "stdin",
     "output_type": "stream",
     "text": [
      " Where can I find the color printer\n"
     ]
    },
    {
     "name": "stdout",
     "output_type": "stream",
     "text": [
      "1/1 [==============================] - 0s 13ms/step\n",
      "Dibner has one color printer, labeled E! Turn left when you enter the main area of the 3rd floor of Dibner to find it!\n"
     ]
    }
   ],
   "source": [
    "print(\"Chatbot is up!\")\n",
    "\n",
    "while True: \n",
    "    message = input(\"\") \n",
    "    ints = predict_class(message) \n",
    "    res = get_response(ints, intents) \n",
    "    print(res) "
   ]
  }
 ],
 "metadata": {
  "kernelspec": {
   "display_name": "Python 3 (ipykernel)",
   "language": "python",
   "name": "python3"
  },
  "language_info": {
   "codemirror_mode": {
    "name": "ipython",
    "version": 3
   },
   "file_extension": ".py",
   "mimetype": "text/x-python",
   "name": "python",
   "nbconvert_exporter": "python",
   "pygments_lexer": "ipython3",
   "version": "3.10.12"
  }
 },
 "nbformat": 4,
 "nbformat_minor": 5
}
